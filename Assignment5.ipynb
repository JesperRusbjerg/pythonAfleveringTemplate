{
 "cells": [
  {
   "cell_type": "code",
   "execution_count": 1,
   "metadata": {},
   "outputs": [],
   "source": [
    "#SETTING UP THE SERVER\n",
    "\n",
    "from flask import Flask, request, Response\n",
    "#from flask_api import status\n",
    "app = Flask(__name__)\n",
    "\n",
    "\n",
    "\n",
    "@app.route('/', methods=['POST'])\n",
    "def hello_world():\n",
    "    SERVER_PASSWORD = 'zz'\n",
    "    data = request.get_json()\n",
    "    #username = data['username']\n",
    "    client_password = data['password']\n",
    "    if client_password != SERVER_PASSWORD:\n",
    "        #content = {'hacked': 'We are totally not hacked'}\n",
    "        return Response(status=403, mimetype='application/json')\n",
    "    else:\n",
    "        #content = {'hacked': 'YOU GOT ME! GG'}\n",
    "        return Response(status=200, mimetype='application/json')"
   ]
  },
  {
   "cell_type": "code",
   "execution_count": null,
   "metadata": {},
   "outputs": [],
   "source": [
    "#HACKING MY SERVER PASSWORD, I ONLY USED LOWER CASE ASCII CHARECTERS,\n",
    "#BUT THE GENERATOR SUPPORTS ANY KIND OF LIST WITH CHARS\n",
    "\n",
    "import string\n",
    "import requests\n",
    "import json\n",
    "from multiprocessing import Pool\n",
    "\n",
    "URL = 'http://127.0.0.1:5000/'\n",
    "\n",
    "asciiList = []\n",
    "for v in string.ascii_lowercase:\n",
    "    asciiList.append(v)\n",
    "\n",
    "def asciiCombos():\n",
    "    for v in asciiList:\n",
    "        for i in range(len(asciiList)):\n",
    "            yield {'password': (v+asciiList[i])}\n",
    "    \n",
    "def fetch(data):\n",
    "    r = requests.post(URL,headers={'Content-Type': 'application/json' }, json=data)\n",
    "    #print(r.status_code)\n",
    "    if r.status_code == 200:\n",
    "        print(r.status_code)\n",
    "        print('The code was : ' + data['password'])\n",
    "        return True\n",
    "\n",
    "#USING BOTH SEQ AND PARALLEL METHOD TO OBTAIN THE SAME RESULT, PARALLEL IS WAY FASTER THAN SEQ\n",
    "#DUE TO OBVIOUS REASONS =):):)\n",
    "    \n",
    "#sequential..\n",
    "for i in asciiCombos():\n",
    "    if fetch(i):\n",
    "        break\n",
    "\n",
    "        \n",
    "        \n",
    "#Parallel\n",
    "with Pool(4) as p:\n",
    "    p.map(fetch, asciiCombos())\n",
    "\n",
    "\n"
   ]
  }
 ],
 "metadata": {
  "kernelspec": {
   "display_name": "Python 3",
   "language": "python",
   "name": "python3"
  },
  "language_info": {
   "codemirror_mode": {
    "name": "ipython",
    "version": 3
   },
   "file_extension": ".py",
   "mimetype": "text/x-python",
   "name": "python",
   "nbconvert_exporter": "python",
   "pygments_lexer": "ipython3",
   "version": "3.7.1"
  }
 },
 "nbformat": 4,
 "nbformat_minor": 2
}
