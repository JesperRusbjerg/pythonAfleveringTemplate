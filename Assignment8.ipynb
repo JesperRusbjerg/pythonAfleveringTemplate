{
 "cells": [
  {
   "cell_type": "code",
   "execution_count": 1,
   "metadata": {},
   "outputs": [
    {
     "name": "stdout",
     "output_type": "stream",
     "text": [
      "Warning: Your Kaggle API key is readable by other users on this system! To fix this, you can run 'chmod 600 /home/jesper/.kaggle/kaggle.json'\n",
      "Warning: Your Kaggle API key is readable by other users on this system! To fix this, you can run 'chmod 600 /home/jesper/.kaggle/kaggle.json'\n"
     ]
    }
   ],
   "source": [
    "#1 - DOWNLOAD THE DATA PROGRAMMATICLY\n",
    "\n",
    "import kaggle\n",
    "\n",
    "#To download via kaggle you must make an API key, and assert into a folder within your OS\n",
    "#Ive done this to download programaticly via the code below\n",
    "#But you cannot run it via. mybinder as you dont have the token, which is why i have included the dataset, so the assignment works :)!\n",
    "\n",
    "\n",
    "kaggle.api.authenticate()\n",
    "kaggle.api.dataset_download_files('russellyates88/suicide-rates-overview-1985-to-2016', path='./', unzip=True)\n",
    "\n"
   ]
  },
  {
   "cell_type": "code",
   "execution_count": 3,
   "metadata": {
    "scrolled": false
   },
   "outputs": [
    {
     "data": {
      "image/png": "[encoded data removed]",
      "text/plain": [
       "<Figure size 432x288 with 1 Axes>"
      ]
     },
     "metadata": {
      "needs_background": "light"
     },
     "output_type": "display_data"
    },
    {
     "data": {
      "text/plain": [
       "<Figure size 432x288 with 0 Axes>"
      ]
     },
     "metadata": {},
     "output_type": "display_data"
    }
   ],
   "source": [
    "import pandas as pd\n",
    "import matplotlib.pyplot as plt\n",
    "import numpy as np\n",
    "\n",
    "\n",
    "#QUESTION 2 Plot amount of suicides/100k pop per year with an age group and gender of your choice\n",
    "\n",
    "df = pd.read_csv('./master.csv')\n",
    "\n",
    "df = df.loc[(df['age'] == '15-24 years') & (df['sex'] == 'male')]\n",
    "\n",
    "#taking out all suicides pr 100k pop for all men in age 15-24, i added them together as the assignment\n",
    "#does not specify wether to chose a singular country or to add them all together\n",
    "dictMales = {}\n",
    "for index, row in df.iterrows():\n",
    "    if row['year'] in dictMales:\n",
    "        dictMales[row['year']] += row['suicides/100k pop']\n",
    "    else:    \n",
    "        dictMales.setdefault(row['year'], 0.0)\n",
    "\n",
    "#rounding all floats to nearest int for plotting purposes\n",
    "for k, v in dictMales.items():\n",
    "    dictMales[k] = int(round(v))\n",
    "    \n",
    "#Creating the plot    \n",
    "D = dictMales\n",
    "\n",
    "plt.bar(range(len(D)), list(D.values()), align='center')\n",
    "plt.xticks(range(len(D)), list(D.keys()), rotation='vertical')\n",
    "\n",
    "plt.show()\n",
    "plt.subplots_adjust(bottom=0.4)"
   ]
  },
  {
   "cell_type": "code",
   "execution_count": 8,
   "metadata": {},
   "outputs": [
    {
     "name": "stdout",
     "output_type": "stream",
     "text": [
      "[16940.54477707]\n",
      "[16223.03374661]\n",
      "[15326.14495854]\n",
      "[13532.3673824]\n",
      "[9944.81223012]\n",
      "[6357.25707784]\n",
      "[2769.70192555]\n",
      "[-817.85322673]\n"
     ]
    }
   ],
   "source": [
    "import sklearn.linear_model\n",
    "\n",
    "# QUESTION 3 Make a prediction for a higher GDP per capita, and a lower GDP per capita. \n",
    "#Is there a correlation between amount of suicides per 100k pop and having a higher or lower gdp?\n",
    "\n",
    "#Predicting wether young males between 15-24 commited more or less suicide based on their GDP_per_capita\n",
    "#The below code works on any DF, i just chose to keep working with above data to keep the red line\n",
    "\n",
    "#data frame from above\n",
    "data = df\n",
    "\n",
    "#finding the values\n",
    "xs = data['suicides/100k pop']\n",
    "ys = data['gdp_per_capita ($)']\n",
    "\n",
    "\n",
    "#Reshape as it expects a 2d array\n",
    "xs_reshape = np.array(xs).reshape(-1, 1)\n",
    "\n",
    "#creating the model\n",
    "model = sklearn.linear_model.LinearRegression()\n",
    "#fitting the data\n",
    "model.fit(xs_reshape, ys)\n",
    "\n",
    "\n",
    "#predicted = model.predict(xs_reshape)\n",
    "print(model.predict([[10]]))\n",
    "print(model.predict([[50]]))\n",
    "print(model.predict([[100]]))\n",
    "print(model.predict([[200]]))\n",
    "print(model.predict([[400]]))\n",
    "print(model.predict([[600]]))\n",
    "print(model.predict([[800]]))\n",
    "print(model.predict([[1000]]))\n",
    "\n",
    "#Increasingly showing that the more money you have, the less chance there should be for you to commit suicide\n",
    "#Wether that holds up in court is another question, but judging by our observations within this data set\n",
    "#there definiatly is a correlation between the two.\n"
   ]
  },
  {
   "cell_type": "code",
   "execution_count": 28,
   "metadata": {},
   "outputs": [
    {
     "data": {
      "text/plain": [
       "-0.0001313019511186564"
      ]
     },
     "execution_count": 28,
     "metadata": {},
     "output_type": "execute_result"
    }
   ],
   "source": [
    "#NOT PARTN OF THE ASSIGNMENT\n",
    "#playing around with model score, sadly it isnt correct at this point, gets a bad score always, but in theory it should work\n",
    "#not sure why, hopefully we learn about this next week :D\n",
    "\n",
    "from sklearn.linear_model import LinearRegression\n",
    "from sklearn.model_selection import train_test_split\n",
    "import pandas as pd\n",
    "\n",
    "df = pd.read_csv('master.csv')\n",
    "\n",
    "x = df['suicides/100k pop'].values.reshape(-1, 1)\n",
    "y = df['gdp_per_capita ($)']\n",
    "x_train, x_test, y_train, y_test = train_test_split(x, y)\n",
    "\n",
    "\n",
    "\n",
    "model = LinearRegression()\n",
    "model.fit(x_train, y_train)\n",
    "model.score(x_test, y_test)"
   ]
  }
 ],
 "metadata": {
  "kernelspec": {
   "display_name": "Python 3",
   "language": "python",
   "name": "python3"
  },
  "language_info": {
   "codemirror_mode": {
    "name": "ipython",
    "version": 3
   },
   "file_extension": ".py",
   "mimetype": "text/x-python",
   "name": "python",
   "nbconvert_exporter": "python",
   "pygments_lexer": "ipython3",
   "version": "3.7.1"
  }
 },
 "nbformat": 4,
 "nbformat_minor": 2
}
