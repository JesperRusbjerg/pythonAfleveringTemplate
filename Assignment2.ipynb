{
 "cells": [
  {
   "cell_type": "code",
   "execution_count": 2,
   "metadata": {},
   "outputs": [
    {
     "data": {
      "text/plain": [
       "<Figure size 640x480 with 1 Axes>"
      ]
     },
     "metadata": {},
     "output_type": "display_data"
    },
    {
     "data": {
      "text/plain": [
       "<Figure size 640x480 with 1 Axes>"
      ]
     },
     "metadata": {},
     "output_type": "display_data"
    },
    {
     "data": {
      "text/plain": [
       "<Figure size 640x480 with 1 Axes>"
      ]
     },
     "metadata": {},
     "output_type": "display_data"
    }
   ],
   "source": [
    "import kkdata\n",
    "import matplotlib.pyplot as plt\n",
    "import numpy as np\n",
    "\n",
    "#UK = 5170\n",
    "#GER = 5180\n",
    "#France = 5130\n",
    "\n",
    "\n",
    "#Function that can retvrieve ages for diffrent countries in areas\n",
    "def ageStats(year=2015, country=5180):\n",
    "    res = {}\n",
    "    for area in kkdata.STATISTICS[year].keys():\n",
    "        for age in kkdata.STATISTICS[year][area]:\n",
    "            for k, v in kkdata.STATISTICS[year][area][age].items():\n",
    "                if(k == country):\n",
    "                    res.setdefault(age, 0)\n",
    "                    res[age] += v\n",
    "                    \n",
    "    return res\n",
    "\n",
    "germany_values = ageStats(2015, 5180)\n",
    "england_values = ageStats(2015, 5170)\n",
    "\n",
    "\n",
    "#makes a only german figure\n",
    "plt.figure\n",
    "plt.title(\"Ages Germany: 2015\", fontsize=12)\n",
    "plt.xlabel(\"Area\", fontsize=10)\n",
    "plt.ylabel(\"Years old\", fontsize=10)\n",
    "plt.bar(germany_values.keys(), germany_values.values())\n",
    "plt.show()\n",
    "\n",
    "\n",
    "#crates a only england figure\n",
    "plt.figure\n",
    "plt.title(\"Ages England: 2015\", fontsize=12)\n",
    "plt.xlabel(\"Area\", fontsize=20)\n",
    "plt.ylabel(\"Years old\", fontsize=20)\n",
    "plt.bar(england_values.keys(), england_values.values(), color=\"orange\")\n",
    "plt.show()\n",
    "\n",
    "#creates a figure comparing the two\n",
    "plt.figure\n",
    "plt.title(\"England = Orange, Germany = blue\", fontsize=12)\n",
    "plt.xlabel(\"Area\", fontsize=10)\n",
    "plt.ylabel(\"Years old\", fontsize=10)\n",
    "plt.bar(germany_values.keys(), germany_values.values())\n",
    "plt.bar(england_values.keys(), england_values.values(), color=\"orange\")\n",
    "plt.show()\n"
   ]
  },
  {
   "cell_type": "code",
   "execution_count": 3,
   "metadata": {},
   "outputs": [
    {
     "name": "stdout",
     "output_type": "stream",
     "text": [
      "Total Germans: 3574\n",
      "Total French 1885\n",
      "There are 1689 More Germans\n"
     ]
    },
    {
     "data": {
      "image/png": "[encoded data removed]",
      "text/plain": [
       "<Figure size 432x288 with 1 Axes>"
      ]
     },
     "metadata": {
      "needs_background": "light"
     },
     "output_type": "display_data"
    }
   ],
   "source": [
    "#French vs German\n",
    "\n",
    "#calculates how many of certain nationality is in each neighbourhood and returns dictionary\n",
    "def howManyEachNeighbourhood(year=2015, country=5180):\n",
    "    res = {}\n",
    "    for area in kkdata.STATISTICS[year].keys():\n",
    "        res.setdefault(area, 0)\n",
    "        for age in kkdata.STATISTICS[year][area]:\n",
    "            if(age >= 20 and age <= 65):\n",
    "                for k, v in kkdata.STATISTICS[year][area][age].items():\n",
    "                    if(k == country):\n",
    "                        res[area] += v            \n",
    "    return res\n",
    "\n",
    "germany = howManyEachNeighbourhood()\n",
    "\n",
    "total_ger = 0\n",
    "for k, v in germany.items():\n",
    "    total_ger += v\n",
    "\n",
    "france = howManyEachNeighbourhood(2015, 5130)\n",
    "total_french = 0\n",
    "for k, v in france.items():\n",
    "    total_french += v\n",
    "\n",
    "    #Calculates and prints germans and french amounts\n",
    "print('Total Germans: ' + str(total_ger))\n",
    "print('Total French ' + str(total_french))\n",
    "more_germans = total_ger - total_french\n",
    "print('There are ' + str(more_germans) + ' More Germans')\n",
    "\n",
    "\n",
    "ind = np.arange(len(france))  # the x locations for the groups\n",
    "width = 0.35  # the width of the bars\n",
    "\n",
    "fig, ax = plt.subplots()\n",
    "rects1 = ax.bar(ind - width/2, france.values(), width,\n",
    "                color='SkyBlue', label='France')\n",
    "rects2 = ax.bar(ind + width/2, germany.values(), width,\n",
    "                color='IndianRed', label='Germany')\n",
    "\n",
    "ax.set_ylabel('Amount')\n",
    "ax.set_title('Red = Germany, Blue = France')\n",
    "plt.xticks(range(len(france.keys())), france.keys(), color='red')\n",
    "\n",
    "plt.show()\n"
   ]
  },
  {
   "cell_type": "code",
   "execution_count": 19,
   "metadata": {},
   "outputs": [
    {
     "data": {
      "image/png": "[encoded data removed]",
      "text/plain": [
       "<Figure size 432x288 with 1 Axes>"
      ]
     },
     "metadata": {},
     "output_type": "display_data"
    }
   ],
   "source": [
    "#Create a pie chart showing the 5 major citizen groups of age between 20-65\n",
    "\n",
    "\n",
    "#returns dict with all nationalities and their amount\n",
    "def howManyEachNeighbourhood(year=2000):\n",
    "    res = {}\n",
    "    for area in kkdata.STATISTICS[year].keys():\n",
    "        for age in kkdata.STATISTICS[year][area]:\n",
    "            for k, v in kkdata.STATISTICS[year][area][age].items():\n",
    "                res.setdefault(k, 0)\n",
    "                res[k] += v\n",
    "               \n",
    "    return res\n",
    "\n",
    "\n",
    "\n",
    "#Sort it, and make it only top 5\n",
    "values_sorted = sorted(howManyEachNeighbourhood().items(), key=lambda x: x[1], reverse=True)\n",
    "values_sliced = values_sorted[0:5]\n",
    "\n",
    "\n",
    "#Piechart showing distribution of people\n",
    "labels = str(values_sliced[0][0]), str(values_sliced[1][0]), str(values_sliced[2][0]), str(values_sliced[3][0]), str(values_sliced[4][0])\n",
    "sizes = [values_sliced[0][0], values_sliced[1][1], values_sliced[2][1], values_sliced[3][1], values_sliced[4][1]]\n",
    "explode = (0, 0, 0, 0, 0)  # only \"explode\" the 2nd slice (i.e. 'Hogs')\n",
    "\n",
    "fig1, ax1 = plt.subplots()\n",
    "ax1.pie(sizes, explode=explode, labels=labels, autopct='%1.1f%%',\n",
    "        shadow=True, startangle=90)\n",
    "ax1.axis('equal')  # Equal aspect ratio ensures that pie is drawn as a circle.\n",
    "\n",
    "plt.show()\n",
    "\n"
   ]
  },
  {
   "cell_type": "code",
   "execution_count": 50,
   "metadata": {},
   "outputs": [
    {
     "data": {
      "text/html": [
       "<div style=\"width:100%;\"><div style=\"position:relative;width:100%;height:0;padding-bottom:60%;\"><iframe src=\"data:text/html;charset=utf-8;base64,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\" style=\"position:absolute;width:100%;height:100%;left:0;top:0;border:none !important;\" allowfullscreen webkitallowfullscreen mozallowfullscreen></iframe></div></div>"
      ],
      "text/plain": [
       "<folium.folium.Map at 0x11656e748>"
      ]
     },
     "execution_count": 50,
     "metadata": {},
     "output_type": "execute_result"
    }
   ],
   "source": [
    "import json\n",
    "import requests\n",
    "import folium\n",
    "import urllib\n",
    "\n",
    "\n",
    "#playing with map, \n",
    "def get_city_location(city='Copenhagen'):\n",
    "    \"\"\"Get the location coordinates from OpenStreetMaps\"\"\"\n",
    "    url_nomatim_api = 'https://nominatim.openstreetmap.org/search'\n",
    "    r = requests.get(url_nomatim_api, params={'format': 'json', 'city': 'Copenhagen'})\n",
    "    results = r.json()  # Potentially many matches\n",
    "    print('results: ',results)\n",
    "    location = results[0]\n",
    "    lat, lon = float(location['lat']), float(location['lon'])\n",
    "    return lat, lon\n",
    "\n",
    "\n",
    "\n",
    "\n",
    "m = folium.Map(location=[55.6867243, 12.5700724])\n",
    "\n",
    "folium.Marker(\n",
    "[55.6890472438, 12.5928976284],\n",
    "popup='Den lille havfrue'\n",
    ").add_to(m)\n",
    "\n",
    "folium.Marker(\n",
    "[55.623830838, 12.641497434],\n",
    "popup='Copenhagen Airport'\n",
    ").add_to(m)\n",
    "\n",
    "m"
   ]
  }
 ],
 "metadata": {
  "kernelspec": {
   "display_name": "Python 3",
   "language": "python",
   "name": "python3"
  },
  "language_info": {
   "codemirror_mode": {
    "name": "ipython",
    "version": 3
   },
   "file_extension": ".py",
   "mimetype": "text/x-python",
   "name": "python",
   "nbconvert_exporter": "python",
   "pygments_lexer": "ipython3",
   "version": "3.7.1"
  }
 },
 "nbformat": 4,
 "nbformat_minor": 2
}
