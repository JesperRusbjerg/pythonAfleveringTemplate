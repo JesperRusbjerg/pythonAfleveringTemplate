{
 "cells": [
  {
   "cell_type": "code",
   "execution_count": 99,
   "metadata": {},
   "outputs": [
    {
     "name": "stdout",
     "output_type": "stream",
     "text": [
      "['class_0' 'class_1' 'class_2']\n",
      "['alcohol', 'malic_acid', 'ash', 'alcalinity_of_ash', 'magnesium', 'total_phenols', 'flavanoids', 'nonflavanoid_phenols', 'proanthocyanins', 'color_intensity', 'hue', 'od280/od315_of_diluted_wines', 'proline']\n"
     ]
    }
   ],
   "source": [
    "#Part 1\n",
    "#Use sklearn.datasets.load_wine to load wine data\n",
    "#Show all target names\n",
    "#Show all feature names\n",
    "\n",
    "import matplotlib\n",
    "import matplotlib.pyplot as plt\n",
    "from sklearn import datasets\n",
    "\n",
    "print(load_wine().target_names)\n",
    "print(load_wine().feature_names)\n"
   ]
  },
  {
   "cell_type": "code",
   "execution_count": 101,
   "metadata": {},
   "outputs": [
    {
     "name": "stdout",
     "output_type": "stream",
     "text": [
      "['class_0' 'class_1' 'class_2']\n",
      "['alcohol', 'malic_acid', 'ash', 'alcalinity_of_ash', 'magnesium', 'total_phenols', 'flavanoids', 'nonflavanoid_phenols', 'proanthocyanins', 'color_intensity', 'hue', 'od280/od315_of_diluted_wines', 'proline']\n"
     ]
    },
    {
     "data": {
      "image/png": "[encoded data removed]",
      "text/plain": [
       "<Figure size 432x288 with 1 Axes>"
      ]
     },
     "metadata": {
      "needs_background": "light"
     },
     "output_type": "display_data"
    }
   ],
   "source": [
    "#Part 2\n",
    "#Visualize the data (scatter) with Alcohol as x and Malic Acid as y\n",
    "#Comment on what you see\n",
    "\n",
    "import matplotlib\n",
    "import matplotlib.pyplot as plt\n",
    "from sklearn import datasets\n",
    "\n",
    "print(wine.target_names)\n",
    "print(wine.feature_names)\n",
    "\n",
    "\n",
    "iris = datasets.load_wine()\n",
    "colors = 'bgr'\n",
    "for idx, name in enumerate(iris.target_names):\n",
    "\n",
    "    alcohol = iris.data[iris.target == idx][:,0]\n",
    "  \n",
    "    malic_acid = iris.data[iris.target == idx][:,1]\n",
    "\n",
    "    plt.scatter(alcohol, malic_acid, c=colors[idx], label=name)\n",
    "\n",
    "plt.title('Wine, malic acid vs alcohol')\n",
    "plt.xlabel('alcohol %')\n",
    "plt.ylabel('malic_acid level')\n",
    "\n",
    "plt.legend()\n",
    "plt.show()\n",
    "\n",
    "#Acid level and alcohol does not seem to affect eachother\n",
    "#as all %'s of alcohol seems to have both high and low amounts of malic_acids\n",
    "#however it looks like the range between 12-14% tends to have the highest amount of malic_acid levels"
   ]
  },
  {
   "cell_type": "code",
   "execution_count": 109,
   "metadata": {},
   "outputs": [],
   "source": [
    "#NOT SURE HOW TO DO THIS PART OF BUILDING A PERCEPTROP WHEN IM NOT SURE WHICH DATA TO USE\n",
    "#gg wp, need more training to understand this shitttt, atleast i tried 8("
   ]
  },
  {
   "cell_type": "code",
   "execution_count": 104,
   "metadata": {},
   "outputs": [
    {
     "data": {
      "text/plain": [
       "[(array([14.23,  1.71]), 1),\n",
       " (array([13.2 ,  1.78]), 1),\n",
       " (array([13.16,  2.36]), 1),\n",
       " (array([14.37,  1.95]), 1),\n",
       " (array([13.24,  2.59]), 1),\n",
       " (array([14.2 ,  1.76]), 1),\n",
       " (array([14.39,  1.87]), 1),\n",
       " (array([14.06,  2.15]), 1),\n",
       " (array([14.83,  1.64]), 1),\n",
       " (array([13.86,  1.35]), 1)]"
      ]
     },
     "execution_count": 104,
     "metadata": {},
     "output_type": "execute_result"
    }
   ],
   "source": [
    "class_labels = np.copy(iris.target)\n",
    "class_labels[class_labels != 0] = -1\n",
    "class_labels[class_labels == 0] = 1\n",
    "#class_labels[class_labels == -1] = 0\n",
    "\n",
    "trainings_data = [(d[:2], l) for d, l in zip(iris.data, class_labels)]\n",
    "trainings_data[:10]"
   ]
  },
  {
   "cell_type": "code",
   "execution_count": 107,
   "metadata": {},
   "outputs": [],
   "source": [
    "\n",
    "from itertools import cycle\n",
    "\n",
    "\n",
    "def plot_data(data, w_line=(1, 1)):\n",
    "    \"\"\"\n",
    "    data:\n",
    "        \n",
    "    \"\"\"\n",
    "    # print(data[:10])\n",
    "    data_points, class_labels = list(zip(*data))\n",
    "    data_points = np.array(data_points)\n",
    "    class_labels = np.array(class_labels)\n",
    "\n",
    "    colors = cycle('bgrcmy')\n",
    "    for l, col in zip(np.unique(class_labels), colors):\n",
    "        d =  data_points[class_labels == l]\n",
    "        x = d[:,0]\n",
    "        y = d[:,1]\n",
    "        plt.scatter(d[:,0], d[:,1], c=col, label=l)\n",
    "    \n",
    "    if w_line != (0, 0):\n",
    "        l = np.linspace(0, 8.5)\n",
    "        m, b = w_line\n",
    "        plt.plot(l, m * l + b, 'y-', lw=2)\n",
    "\n",
    "    plt.axis([0, 8.5, 0, 5])\n",
    "    plt.title('Iris Characteristics')\n",
    "    plt.xlabel('length')\n",
    "    plt.ylabel('width')\n",
    "    plt.legend()"
   ]
  },
  {
   "cell_type": "code",
   "execution_count": 108,
   "metadata": {},
   "outputs": [
    {
     "data": {
      "image/png": "[encoded data removed]",
      "text/plain": [
       "<Figure size 432x288 with 1 Axes>"
      ]
     },
     "metadata": {
      "needs_background": "light"
     },
     "output_type": "display_data"
    }
   ],
   "source": [
    "plot_data(trainings_data)"
   ]
  }
 ],
 "metadata": {
  "kernelspec": {
   "display_name": "Python 3",
   "language": "python",
   "name": "python3"
  },
  "language_info": {
   "codemirror_mode": {
    "name": "ipython",
    "version": 3
   },
   "file_extension": ".py",
   "mimetype": "text/x-python",
   "name": "python",
   "nbconvert_exporter": "python",
   "pygments_lexer": "ipython3",
   "version": "3.7.1"
  }
 },
 "nbformat": 4,
 "nbformat_minor": 2
}
