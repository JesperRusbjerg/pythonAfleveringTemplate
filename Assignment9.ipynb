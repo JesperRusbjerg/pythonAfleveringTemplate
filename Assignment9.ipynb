{
 "cells": [
  {
   "cell_type": "code",
   "execution_count": 6,
   "metadata": {},
   "outputs": [],
   "source": [
    "import pandas as pd\n",
    "from sklearn.model_selection import train_test_split\n",
    "from tensorflow import keras\n",
    "import numpy as np\n",
    "import tensorflow as tf\n",
    "\n",
    "\n",
    "#Questions/Exercises:\n",
    "#Download the dataset programatically, and split the data into a train-test set.\n",
    "#Using TensorFlow, create a neural network and train it.\n",
    "#Use the provided test data, and evaluate the accuracy of the network.\n",
    "\n",
    "#Download the dataset programatically, and split the data into a train-test set.\n",
    "#went ahead and found the dataset on tensorflow so i could use it on mybinder, cant use kaggle because of its API key\n",
    "fashion_mnist = keras.datasets.fashion_mnist\n",
    "\n",
    "#splitting into test/train data\n",
    "(train_images, train_labels), (test_images, test_labels) = fashion_mnist.load_data()\n",
    "#normalizing data\n",
    "train_images = train_images / 255.0\n",
    "\n",
    "test_images = test_images / 255.0\n"
   ]
  },
  {
   "cell_type": "code",
   "execution_count": null,
   "metadata": {},
   "outputs": [
    {
     "name": "stdout",
     "output_type": "stream",
     "text": [
      "WARNING:tensorflow:From /home/jesper/anaconda3/lib/python3.7/site-packages/tensorflow/python/ops/resource_variable_ops.py:435: colocate_with (from tensorflow.python.framework.ops) is deprecated and will be removed in a future version.\n",
      "Instructions for updating:\n",
      "Colocations handled automatically by placer.\n",
      "Epoch 1/8\n",
      "60000/60000 [==============================] - 7s 119us/sample - loss: 0.4988 - acc: 0.8226\n",
      "Epoch 2/8\n",
      "60000/60000 [==============================] - 7s 115us/sample - loss: 0.3729 - acc: 0.8650\n",
      "Epoch 3/8\n",
      "60000/60000 [==============================] - 7s 121us/sample - loss: 0.3359 - acc: 0.8781\n",
      "Epoch 4/8\n",
      "60000/60000 [==============================] - 7s 115us/sample - loss: 0.3141 - acc: 0.8842\n",
      "Epoch 5/8\n",
      "60000/60000 [==============================] - 7s 121us/sample - loss: 0.2939 - acc: 0.8915\n",
      "Epoch 6/8\n",
      "60000/60000 [==============================] - 7s 114us/sample - loss: 0.2791 - acc: 0.8974\n",
      "Epoch 7/8\n",
      "60000/60000 [==============================] - 7s 115us/sample - loss: 0.2664 - acc: 0.9018\n",
      "Epoch 8/8\n",
      "43712/60000 [====================>.........] - ETA: 1s - loss: 0.2553 - acc: 0.9051"
     ]
    }
   ],
   "source": [
    "#Using TensorFlow, create a neural network and train it.\n",
    "model = keras.Sequential([\n",
    "    keras.layers.Flatten(input_shape=(28, 28)),\n",
    "    keras.layers.Dense(128, activation=tf.nn.relu),\n",
    "    keras.layers.Dense(10, activation=tf.nn.softmax)\n",
    "])\n",
    "\n",
    "model.compile(optimizer='adam', \n",
    "              loss='sparse_categorical_crossentropy',\n",
    "              metrics=['accuracy'])\n",
    "\n",
    "model.fit(train_images, train_labels, epochs=8)\n",
    "\n",
    "#shows that the more times you train it, the more accurate it becomes, the best ive gotten here is rougly 90% accuracy"
   ]
  },
  {
   "cell_type": "code",
   "execution_count": 76,
   "metadata": {},
   "outputs": [
    {
     "name": "stdout",
     "output_type": "stream",
     "text": [
      "10000/10000 [==============================] - 0s 40us/sample - loss: 0.3326 - acc: 0.8831\n",
      "Test accuracy: 0.8831\n"
     ]
    }
   ],
   "source": [
    "#Use the provided test data, and evaluate the accuracy of the network.\n",
    "#testing how accurate the model is, based on my test data\n",
    "test_loss, test_acc = model.evaluate(test_images, test_labels)\n",
    "\n",
    "print('Test accuracy:', test_acc)\n",
    "#shows that my tests are a little less accurate than my model, \n",
    "#but this is also meant to be new data and it should still learn, the more test data it is fed"
   ]
  },
  {
   "cell_type": "code",
   "execution_count": null,
   "metadata": {},
   "outputs": [],
   "source": [
    "#Review Questions:\n",
    "#Did the student download the data programatically and split it into a train-test set?\n",
    "#Did the student use tesorflow to create a neural network and train it?\n",
    "#Did the student reflect on the accuracy of the network?"
   ]
  }
 ],
 "metadata": {
  "kernelspec": {
   "display_name": "Python 3",
   "language": "python",
   "name": "python3"
  },
  "language_info": {
   "codemirror_mode": {
    "name": "ipython",
    "version": 3
   },
   "file_extension": ".py",
   "mimetype": "text/x-python",
   "name": "python",
   "nbconvert_exporter": "python",
   "pygments_lexer": "ipython3",
   "version": "3.7.1"
  }
 },
 "nbformat": 4,
 "nbformat_minor": 2
}
