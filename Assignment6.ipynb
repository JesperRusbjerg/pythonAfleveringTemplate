{
 "cells": [
  {
   "cell_type": "code",
   "execution_count": 13,
   "metadata": {},
   "outputs": [
    {
     "data": {
      "text/plain": [
       "('fbdata.txt.gz', <http.client.HTTPMessage at 0x7f8bc9e81400>)"
      ]
     },
     "execution_count": 13,
     "metadata": {},
     "output_type": "execute_result"
    }
   ],
   "source": [
    "#DOWNLOADING THE DATA SET\n",
    "#HAVENT BEEN ABLE TO UPLOAD TO MYBINDER ALL DAY\n",
    "#IF YOU ARE REVIEWING, PLEASE EITHER REVIEW CODE OR PULL THE CODE AND RUN IT LOCALLY, IT WORKS\n",
    "#STUPID MYBINDER =(\n",
    "#OR FILE IT AS A BUG WHATEVER ^ _ ^\n",
    "\n",
    "import urllib.request as req\n",
    "\n",
    "\n",
    "req.urlretrieve(\"https://snap.stanford.edu/data/facebook_combined.txt.gz\", \"fbdata.txt.gz\")\n",
    "\n"
   ]
  },
  {
   "cell_type": "code",
   "execution_count": 3,
   "metadata": {},
   "outputs": [],
   "source": [
    "import gzip\n",
    "import shutil\n",
    "with gzip.open('fbdata.txt.gz', 'rb') as f_in:\n",
    "    with open('fbdata.txt', 'wb') as f_out:\n",
    "        shutil.copyfileobj(f_in, f_out)"
   ]
  },
  {
   "cell_type": "code",
   "execution_count": 1,
   "metadata": {},
   "outputs": [
    {
     "name": "stdout",
     "output_type": "stream",
     "text": [
      "Name: \n",
      "Type: Graph\n",
      "Number of nodes: 4039\n",
      "Number of edges: 88234\n",
      "Average degree:  43.6910\n"
     ]
    },
    {
     "name": "stderr",
     "output_type": "stream",
     "text": [
      "/home/jesper/anaconda3/lib/python3.7/site-packages/networkx/drawing/nx_pylab.py:611: MatplotlibDeprecationWarning: isinstance(..., numbers.Number)\n",
      "  if cb.is_numlike(alpha):\n"
     ]
    },
    {
     "data": {
      "text/plain": [
       "<Figure size 640x480 with 1 Axes>"
      ]
     },
     "metadata": {},
     "output_type": "display_data"
    }
   ],
   "source": [
    "import networkx as nx\n",
    "import matplotlib.pyplot as plt\n",
    "\n",
    "\n",
    "graph = nx.read_edgelist('fbdata.txt')\n",
    "\n",
    "print(nx.info(graph))\n",
    "\n",
    "nx.draw(graph)\n",
    "plt.show()"
   ]
  },
  {
   "cell_type": "code",
   "execution_count": 5,
   "metadata": {},
   "outputs": [
    {
     "name": "stdout",
     "output_type": "stream",
     "text": [
      "Sorted list\n",
      "[('107', 1045), ('1684', 792), ('1912', 755), ('3437', 547), ('0', 347), ('2543', 294), ('2347', 291), ('1888', 254), ('1800', 245), ('1663', 235)]\n",
      "\n",
      "Just finding them and printing them\n",
      "('107', 1045)\n",
      "('1684', 791)\n",
      "('1912', 755)\n",
      "('3437', 547)\n",
      "('0', 346)\n",
      "('2543', 293)\n",
      "('2347', 289)\n",
      "('1888', 253)\n",
      "('1800', 243)\n",
      "('1663', 232)\n",
      "\n",
      "List Version\n",
      "[('107', 1045), ('1684', 791), ('1912', 755), ('3437', 547), ('0', 346), ('2543', 293), ('2347', 289), ('1888', 253), ('1800', 243), ('1663', 232)]\n"
     ]
    }
   ],
   "source": [
    "#Three ways of doing it, i think it works\n",
    "\n",
    "print('Sorted list')\n",
    "top10 = sorted(graph.degree, key = lambda x : x[1], reverse=True)[:10]\n",
    "print(top10)\n",
    "\n",
    "print('')\n",
    "\n",
    "print('Just finding them and printing them')\n",
    "maxGraph = nx.read_edgelist('fbdata.txt', create_using=nx.Graph())\n",
    "for i in range(10):\n",
    "    node = max(dict(maxGraph.degree()).items(), key = lambda x : x[1])\n",
    "    print(node)\n",
    "    maxGraph.remove_node(node[0])\n",
    "    \n",
    "    \n",
    "print('')    \n",
    "print('List Version')\n",
    "maxGraph = nx.read_edgelist('fbdata.txt', create_using=nx.Graph())\n",
    "listOfMaxNodes = []\n",
    "for i in range(10):\n",
    "    node = max(dict(maxGraph.degree()).items(), key = lambda x : x[1])\n",
    "    listOfMaxNodes.append(node)\n",
    "    maxGraph.remove_node(node[0])\n",
    "    \n",
    "print(listOfMaxNodes)"
   ]
  }
 ],
 "metadata": {
  "kernelspec": {
   "display_name": "Python 3",
   "language": "python",
   "name": "python3"
  },
  "language_info": {
   "codemirror_mode": {
    "name": "ipython",
    "version": 3
   },
   "file_extension": ".py",
   "mimetype": "text/x-python",
   "name": "python",
   "nbconvert_exporter": "python",
   "pygments_lexer": "ipython3",
   "version": "3.7.1"
  }
 },
 "nbformat": 4,
 "nbformat_minor": 2
}
